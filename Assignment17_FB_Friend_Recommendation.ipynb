{
  "nbformat": 4,
  "nbformat_minor": 0,
  "metadata": {
    "colab": {
      "name": "Assignment17_FB_Friend_Recommendation",
      "provenance": [],
      "collapsed_sections": [],
      "machine_shape": "hm",
      "include_colab_link": true
    },
    "kernelspec": {
      "name": "python3",
      "display_name": "Python 3"
    },
    "accelerator": "GPU"
  },
  "cells": [
    {
      "cell_type": "markdown",
      "metadata": {
        "id": "view-in-github",
        "colab_type": "text"
      },
      "source": [
        "<a href=\"https://colab.research.google.com/github/shethshaurya/Coursera_Capstone/blob/master/Assignment17_FB_Friend_Recommendation.ipynb\" target=\"_parent\"><img src=\"https://colab.research.google.com/assets/colab-badge.svg\" alt=\"Open In Colab\"/></a>"
      ]
    },
    {
      "cell_type": "markdown",
      "metadata": {
        "id": "naWvqMEMHglO",
        "colab_type": "text"
      },
      "source": [
        "<p style=\"font-size:32px;text-align:center\"> <b>Social network Graph Link Prediction - Facebook Challenge</b> </p>"
      ]
    },
    {
      "cell_type": "code",
      "metadata": {
        "id": "7ydSwiwoJiDM",
        "colab_type": "code",
        "colab": {
          "base_uri": "https://localhost:8080/",
          "height": 34
        },
        "outputId": "ffb35558-84dc-484e-f990-5a2fed05a7eb"
      },
      "source": [
        "from google.colab import drive\n",
        "drive.mount('/content/drive')"
      ],
      "execution_count": 32,
      "outputs": [
        {
          "output_type": "stream",
          "text": [
            "Drive already mounted at /content/drive; to attempt to forcibly remount, call drive.mount(\"/content/drive\", force_remount=True).\n"
          ],
          "name": "stdout"
        }
      ]
    },
    {
      "cell_type": "code",
      "metadata": {
        "id": "7DxBYK_RJoLS",
        "colab_type": "code",
        "colab": {
          "base_uri": "https://localhost:8080/",
          "height": 578
        },
        "outputId": "865e3003-5918-4f8c-8943-76b27cbeeef2"
      },
      "source": [
        "!unzip \"/content/drive/My Drive/data/Facebook-20200901T212013Z-001.zip\""
      ],
      "execution_count": 36,
      "outputs": [
        {
          "output_type": "stream",
          "text": [
            "Archive:  /content/drive/My Drive/data/Facebook-20200901T212013Z-001.zip\n",
            "replace Facebook/FB_Models.ipynb? [y]es, [n]o, [A]ll, [N]one, [r]ename: y\n",
            "  inflating: Facebook/FB_Models.ipynb  \n",
            "replace Facebook/FB_EDA.ipynb? [y]es, [n]o, [A]ll, [N]one, [r]ename: y\n",
            "  inflating: Facebook/FB_EDA.ipynb   \n",
            "replace Facebook/FB_featurization.ipynb? [y]es, [n]o, [A]ll, [N]one, [r]ename: y\n",
            "  inflating: Facebook/FB_featurization.ipynb  \n",
            "replace Facebook/data/test_y.csv? [y]es, [n]o, [A]ll, [N]one, [r]ename: y\n",
            "  inflating: Facebook/data/test_y.csv  \n",
            "replace Facebook/data/train_y.csv? [y]es, [n]o, [A]ll, [N]one, [r]ename: y\n",
            "  inflating: Facebook/data/train_y.csv  \n",
            "replace Facebook/data/fea_sample/storage_sample_stage2.h5? [y]es, [n]o, [A]ll, [N]one, [r]ename: y\n",
            "  inflating: Facebook/data/fea_sample/storage_sample_stage2.h5  \n",
            "replace Facebook/data/after_eda/test_neg_after_eda.csv? [y]es, [n]o, [A]ll, [N]one, [r]ename: y\n",
            "  inflating: Facebook/data/after_eda/test_neg_after_eda.csv  \n",
            "replace Facebook/data/fea_sample/page_rank.p? [y]es, [n]o, [A]ll, [N]one, [r]ename: y\n",
            "  inflating: Facebook/data/fea_sample/page_rank.p  \n",
            "replace Facebook/data/fea_sample/storage_sample_stage1.h5? [y]es, [n]o, [A]ll, [N]one, [r]ename: a\n",
            "error:  invalid response [a]\n",
            "replace Facebook/data/fea_sample/storage_sample_stage1.h5? [y]es, [n]o, [A]ll, [N]one, [r]ename: A\n",
            "  inflating: Facebook/data/fea_sample/storage_sample_stage1.h5  \n",
            "  inflating: Facebook/data/after_eda/test_pos_after_eda.csv  \n",
            "  inflating: Facebook/data/fea_sample/katz.p  \n",
            "  inflating: Facebook/data/fea_sample/storage_sample_stage3.h5  \n",
            "  inflating: Facebook/data/after_eda/test_after_eda.csv  \n",
            "  inflating: Facebook/data/fea_sample/hits.p  \n",
            "  inflating: Facebook/data/after_eda/train_woheader.csv  \n",
            "  inflating: Facebook/data/after_eda/train_neg_after_eda.csv  \n",
            "  inflating: Facebook/data/fea_sample/storage_sample_stage4.h5  \n",
            "  inflating: Facebook/data/train.csv  \n",
            "  inflating: Facebook/data/after_eda/train_pos_after_eda.csv  \n",
            "  inflating: Facebook/data/after_eda/missing_edges_final.p  \n",
            "  inflating: Facebook/data/after_eda/train_after_eda.csv  \n"
          ],
          "name": "stdout"
        }
      ]
    },
    {
      "cell_type": "code",
      "metadata": {
        "id": "9wb9N5RzHglP",
        "colab_type": "code",
        "colab": {}
      },
      "source": [
        "#Importing Libraries\n",
        "# please do go through this python notebook: \n",
        "import warnings\n",
        "warnings.filterwarnings(\"ignore\")\n",
        "\n",
        "import csv\n",
        "import pandas as pd#pandas to create small dataframes \n",
        "import datetime #Convert to unix time\n",
        "import time #Convert to unix time\n",
        "# if numpy is not installed already : pip3 install numpy\n",
        "import numpy as np#Do aritmetic operations on arrays\n",
        "# matplotlib: used to plot graphs\n",
        "import matplotlib\n",
        "import matplotlib.pylab as plt\n",
        "import seaborn as sns#Plots\n",
        "from matplotlib import rcParams#Size of plots  \n",
        "from sklearn.cluster import MiniBatchKMeans, KMeans#Clustering\n",
        "import math\n",
        "import pickle\n",
        "import os\n",
        "# to install xgboost: pip3 install xgboost\n",
        "import xgboost as xgb\n",
        "\n",
        "import warnings\n",
        "import networkx as nx\n",
        "import pdb\n",
        "import pickle\n",
        "from pandas import HDFStore,DataFrame\n",
        "from pandas import read_hdf\n",
        "from scipy.sparse.linalg import svds, eigs\n",
        "import gc\n",
        "from tqdm import tqdm\n",
        "from sklearn.ensemble import RandomForestClassifier\n",
        "from sklearn.metrics import f1_score"
      ],
      "execution_count": 37,
      "outputs": []
    },
    {
      "cell_type": "code",
      "metadata": {
        "id": "XC4OJFKkHglU",
        "colab_type": "code",
        "colab": {}
      },
      "source": [
        "#reading\n",
        "from pandas import read_hdf\n",
        "df_final_train = read_hdf('/content/Facebook/data/fea_sample/storage_sample_stage4.h5', 'train_df',mode='r')\n",
        "df_final_test = read_hdf('/content/Facebook/data/fea_sample/storage_sample_stage4.h5', 'test_df',mode='r')"
      ],
      "execution_count": 38,
      "outputs": []
    },
    {
      "cell_type": "code",
      "metadata": {
        "id": "5Gm-BHRkHglW",
        "colab_type": "code",
        "colab": {
          "base_uri": "https://localhost:8080/",
          "height": 238
        },
        "outputId": "0e90c1a3-2a07-4454-fd61-c164b46416d8"
      },
      "source": [
        "df_final_train.columns"
      ],
      "execution_count": 39,
      "outputs": [
        {
          "output_type": "execute_result",
          "data": {
            "text/plain": [
              "Index(['source_node', 'destination_node', 'indicator_link',\n",
              "       'jaccard_followers', 'jaccard_followees', 'cosine_followers',\n",
              "       'cosine_followees', 'num_followers_s', 'num_followees_s',\n",
              "       'num_followees_d', 'inter_followers', 'inter_followees', 'adar_index',\n",
              "       'follows_back', 'same_comp', 'shortest_path', 'weight_in', 'weight_out',\n",
              "       'weight_f1', 'weight_f2', 'weight_f3', 'weight_f4', 'page_rank_s',\n",
              "       'page_rank_d', 'katz_s', 'katz_d', 'hubs_s', 'hubs_d', 'authorities_s',\n",
              "       'authorities_d', 'svd_u_s_1', 'svd_u_s_2', 'svd_u_s_3', 'svd_u_s_4',\n",
              "       'svd_u_s_5', 'svd_u_s_6', 'svd_u_d_1', 'svd_u_d_2', 'svd_u_d_3',\n",
              "       'svd_u_d_4', 'svd_u_d_5', 'svd_u_d_6', 'svd_v_s_1', 'svd_v_s_2',\n",
              "       'svd_v_s_3', 'svd_v_s_4', 'svd_v_s_5', 'svd_v_s_6', 'svd_v_d_1',\n",
              "       'svd_v_d_2', 'svd_v_d_3', 'svd_v_d_4', 'svd_v_d_5', 'svd_v_d_6'],\n",
              "      dtype='object')"
            ]
          },
          "metadata": {
            "tags": []
          },
          "execution_count": 39
        }
      ]
    },
    {
      "cell_type": "code",
      "metadata": {
        "id": "XRW7VZ4AHglc",
        "colab_type": "code",
        "colab": {}
      },
      "source": [
        "y_train = df_final_train.indicator_link\n",
        "y_test = df_final_test.indicator_link"
      ],
      "execution_count": 40,
      "outputs": []
    },
    {
      "cell_type": "code",
      "metadata": {
        "id": "4lj9M_qtHglf",
        "colab_type": "code",
        "colab": {}
      },
      "source": [
        "df_final_train_t1 = df_final_train.drop(['source_node', 'destination_node','indicator_link'],axis=1)\n",
        "df_final_test_t1 = df_final_test.drop(['source_node', 'destination_node','indicator_link'],axis=1)"
      ],
      "execution_count": 41,
      "outputs": []
    },
    {
      "cell_type": "code",
      "metadata": {
        "id": "lIEc91uVHgli",
        "colab_type": "code",
        "colab": {
          "base_uri": "https://localhost:8080/",
          "height": 397
        },
        "outputId": "3d080d9c-42af-4a5f-8aae-a80c943d39e9"
      },
      "source": [
        "estimators = [10,50,100,250,450]\n",
        "train_scores = []\n",
        "test_scores = []\n",
        "for i in estimators:\n",
        "    clf = RandomForestClassifier(bootstrap=True, class_weight=None, criterion='gini',\n",
        "            max_depth=5, max_features='auto', max_leaf_nodes=None,\n",
        "            min_impurity_decrease=0.0, min_impurity_split=None,\n",
        "            min_samples_leaf=52, min_samples_split=120,\n",
        "            min_weight_fraction_leaf=0.0, n_estimators=i, n_jobs=-1,random_state=25,verbose=0,warm_start=False)\n",
        "    clf.fit(df_final_train_t1,y_train)\n",
        "    train_sc = f1_score(y_train,clf.predict(df_final_train_t1))\n",
        "    test_sc = f1_score(y_test,clf.predict(df_final_test_t1))\n",
        "    test_scores.append(test_sc)\n",
        "    train_scores.append(train_sc)\n",
        "    print('Estimators = ',i,'Train Score',train_sc,'test Score',test_sc)\n",
        "plt.plot(estimators,train_scores,label='Train Score')\n",
        "plt.plot(estimators,test_scores,label='Test Score')\n",
        "plt.xlabel('Estimators')\n",
        "plt.ylabel('Score')\n",
        "plt.title('Estimators vs score at depth of 5')"
      ],
      "execution_count": 42,
      "outputs": [
        {
          "output_type": "stream",
          "text": [
            "Estimators =  10 Train Score 0.9063252121775113 test Score 0.8745605278006858\n",
            "Estimators =  50 Train Score 0.9205725512208812 test Score 0.9125653355634538\n",
            "Estimators =  100 Train Score 0.9238690848446947 test Score 0.9141199714153599\n",
            "Estimators =  250 Train Score 0.9239789348046863 test Score 0.9188007232664732\n",
            "Estimators =  450 Train Score 0.9237190618658074 test Score 0.9161507685828595\n"
          ],
          "name": "stdout"
        },
        {
          "output_type": "execute_result",
          "data": {
            "text/plain": [
              "Text(0.5, 1.0, 'Estimators vs score at depth of 5')"
            ]
          },
          "metadata": {
            "tags": []
          },
          "execution_count": 42
        },
        {
          "output_type": "display_data",
          "data": {
            "image/png": "[encoded data removed]",
            "text/plain": [
              "<Figure size 432x288 with 1 Axes>"
            ]
          },
          "metadata": {
            "tags": [],
            "needs_background": "light"
          }
        }
      ]
    },
    {
      "cell_type": "code",
      "metadata": {
        "id": "nZxhrTdQHglm",
        "colab_type": "code",
        "colab": {
          "base_uri": "https://localhost:8080/",
          "height": 448
        },
        "outputId": "5cdb2116-5565-4f01-a3fc-16b1abe8a972"
      },
      "source": [
        "depths = [3,9,11,15,20,35,50,70,130]\n",
        "train_scores = []\n",
        "test_scores = []\n",
        "for i in depths:\n",
        "    clf = RandomForestClassifier(bootstrap=True, class_weight=None, criterion='gini',\n",
        "            max_depth=i, max_features='auto', max_leaf_nodes=None,\n",
        "            min_impurity_decrease=0.0, min_impurity_split=None,\n",
        "            min_samples_leaf=52, min_samples_split=120,\n",
        "            min_weight_fraction_leaf=0.0, n_estimators=265, n_jobs=-1,random_state=25,verbose=0,warm_start=False)\n",
        "    clf.fit(df_final_train_t1,y_train)\n",
        "    train_sc = f1_score(y_train,clf.predict(df_final_train_t1))\n",
        "    test_sc = f1_score(y_test,clf.predict(df_final_test_t1))\n",
        "    test_scores.append(test_sc)\n",
        "    train_scores.append(train_sc)\n",
        "    print('depth = ',i,'Train Score',train_sc,'test Score',test_sc)\n",
        "plt.plot(depths,train_scores,label='Train Score')\n",
        "plt.plot(depths,test_scores,label='Test Score')\n",
        "plt.xlabel('Depth')\n",
        "plt.ylabel('Score')\n",
        "plt.title('Depth vs score at depth of 5 at estimators = 115')\n",
        "plt.show()"
      ],
      "execution_count": 44,
      "outputs": [
        {
          "output_type": "stream",
          "text": [
            "depth =  3 Train Score 0.8929662966191592 test Score 0.8671992440836661\n",
            "depth =  9 Train Score 0.9583995436580695 test Score 0.9246768557113384\n",
            "depth =  11 Train Score 0.96189219368592 test Score 0.9252161474220081\n",
            "depth =  15 Train Score 0.9637507611122388 test Score 0.9264916266935959\n",
            "depth =  20 Train Score 0.9638277783981888 test Score 0.9267656036206715\n",
            "depth =  35 Train Score 0.9638419684911482 test Score 0.9268590431689504\n",
            "depth =  50 Train Score 0.9638419684911482 test Score 0.9268590431689504\n",
            "depth =  70 Train Score 0.9638419684911482 test Score 0.9268590431689504\n",
            "depth =  130 Train Score 0.9638419684911482 test Score 0.9268590431689504\n"
          ],
          "name": "stdout"
        },
        {
          "output_type": "display_data",
          "data": {
            "image/png": "[encoded data removed]",
            "text/plain": [
              "<Figure size 432x288 with 1 Axes>"
            ]
          },
          "metadata": {
            "tags": [],
            "needs_background": "light"
          }
        }
      ]
    },
    {
      "cell_type": "code",
      "metadata": {
        "id": "MrG1Lfl3Hglq",
        "colab_type": "code",
        "colab": {
          "base_uri": "https://localhost:8080/",
          "height": 51
        },
        "outputId": "c48cc445-da8f-4169-9734-b582a2d0ec59"
      },
      "source": [
        "from sklearn.metrics import f1_score\n",
        "from sklearn.ensemble import RandomForestClassifier\n",
        "from sklearn.metrics import f1_score\n",
        "from sklearn.model_selection import RandomizedSearchCV\n",
        "from scipy.stats import randint as sp_randint\n",
        "from scipy.stats import uniform\n",
        "\n",
        "param_dist = {\"n_estimators\":sp_randint(250,300),\n",
        "              \"max_depth\": sp_randint(20,35),\n",
        "              \"min_samples_split\": sp_randint(110,190),\n",
        "              \"min_samples_leaf\": sp_randint(25,65)}\n",
        "\n",
        "clf = RandomForestClassifier(random_state=25,n_jobs=-1)\n",
        "\n",
        "rf_random = RandomizedSearchCV(clf, param_distributions=param_dist,\n",
        "                                   n_iter=5,cv=10,scoring='f1',random_state=25,return_train_score =True)\n",
        "\n",
        "rf_random.fit(df_final_train_t1,y_train)\n",
        "print('mean test scores',rf_random.cv_results_['mean_test_score'])\n",
        "print('mean train scores',rf_random.cv_results_['mean_train_score'])"
      ],
      "execution_count": 45,
      "outputs": [
        {
          "output_type": "stream",
          "text": [
            "mean test scores [0.96295253 0.96372767 0.96278719 0.96414528 0.96428167]\n",
            "mean train scores [0.96361105 0.96480418 0.96327206 0.96510947 0.96578263]\n"
          ],
          "name": "stdout"
        }
      ]
    },
    {
      "cell_type": "code",
      "metadata": {
        "id": "hme3j_diHglu",
        "colab_type": "code",
        "colab": {
          "base_uri": "https://localhost:8080/",
          "height": 153
        },
        "outputId": "51cf1e73-88a0-46e8-a339-050cb1c7c566"
      },
      "source": [
        "print(rf_random.best_estimator_)"
      ],
      "execution_count": 46,
      "outputs": [
        {
          "output_type": "stream",
          "text": [
            "RandomForestClassifier(bootstrap=True, ccp_alpha=0.0, class_weight=None,\n",
            "                       criterion='gini', max_depth=24, max_features='auto',\n",
            "                       max_leaf_nodes=None, max_samples=None,\n",
            "                       min_impurity_decrease=0.0, min_impurity_split=None,\n",
            "                       min_samples_leaf=28, min_samples_split=111,\n",
            "                       min_weight_fraction_leaf=0.0, n_estimators=272,\n",
            "                       n_jobs=-1, oob_score=False, random_state=25, verbose=0,\n",
            "                       warm_start=False)\n"
          ],
          "name": "stdout"
        }
      ]
    },
    {
      "cell_type": "code",
      "metadata": {
        "id": "qu4KIEweHglx",
        "colab_type": "code",
        "colab": {}
      },
      "source": [
        "clf_best = rf_random.best_estimator_"
      ],
      "execution_count": 47,
      "outputs": []
    },
    {
      "cell_type": "code",
      "metadata": {
        "id": "Dax83GfLHgl1",
        "colab_type": "code",
        "colab": {}
      },
      "source": [
        "clf_best.fit(df_final_train_t1,y_train)\n",
        "y_train_pred = clf_best.predict(df_final_train_t1)\n",
        "y_test_pred = clf_best.predict(df_final_test_t1)"
      ],
      "execution_count": 49,
      "outputs": []
    },
    {
      "cell_type": "code",
      "metadata": {
        "id": "PTtAp1iTHgl4",
        "colab_type": "code",
        "colab": {
          "base_uri": "https://localhost:8080/",
          "height": 51
        },
        "outputId": "4eb36892-7e1d-4658-f800-27f1b51484e5"
      },
      "source": [
        "from sklearn.metrics import f1_score\n",
        "print('Train f1 score',f1_score(y_train,y_train_pred))\n",
        "print('Test f1 score',f1_score(y_test,y_test_pred))"
      ],
      "execution_count": 50,
      "outputs": [
        {
          "output_type": "stream",
          "text": [
            "Train f1 score 0.9659199189052206\n",
            "Test f1 score 0.9273703041144902\n"
          ],
          "name": "stdout"
        }
      ]
    },
    {
      "cell_type": "code",
      "metadata": {
        "id": "5XfUkZYQHgl7",
        "colab_type": "code",
        "colab": {}
      },
      "source": [
        "from sklearn.metrics import confusion_matrix\n",
        "def plot_confusion_matrix(test_y, predict_y):\n",
        "    C = confusion_matrix(test_y, predict_y)\n",
        "    \n",
        "    A =(((C.T)/(C.sum(axis=1))).T)\n",
        "    \n",
        "    B =(C/C.sum(axis=0))\n",
        "    plt.figure(figsize=(20,4))\n",
        "    \n",
        "    labels = [0,1]\n",
        "    # representing A in heatmap format\n",
        "    cmap=sns.light_palette(\"blue\")\n",
        "    plt.subplot(1, 3, 1)\n",
        "    sns.heatmap(C, annot=True, cmap=cmap, fmt=\".3f\", xticklabels=labels, yticklabels=labels)\n",
        "    plt.xlabel('Predicted Class')\n",
        "    plt.ylabel('Original Class')\n",
        "    plt.title(\"Confusion matrix\")\n",
        "    \n",
        "    plt.subplot(1, 3, 2)\n",
        "    sns.heatmap(B, annot=True, cmap=cmap, fmt=\".3f\", xticklabels=labels, yticklabels=labels)\n",
        "    plt.xlabel('Predicted Class')\n",
        "    plt.ylabel('Original Class')\n",
        "    plt.title(\"Precision matrix\")\n",
        "    \n",
        "    plt.subplot(1, 3, 3)\n",
        "    # representing B in heatmap format\n",
        "    sns.heatmap(A, annot=True, cmap=cmap, fmt=\".3f\", xticklabels=labels, yticklabels=labels)\n",
        "    plt.xlabel('Predicted Class')\n",
        "    plt.ylabel('Original Class')\n",
        "    plt.title(\"Recall matrix\")\n",
        "    \n",
        "    plt.show()"
      ],
      "execution_count": 51,
      "outputs": []
    },
    {
      "cell_type": "code",
      "metadata": {
        "id": "s6t11dhTHgl-",
        "colab_type": "code",
        "colab": {
          "base_uri": "https://localhost:8080/",
          "height": 607
        },
        "outputId": "2f441560-066a-49e7-fa22-b582ca18a92d"
      },
      "source": [
        "print('Train confusion_matrix')\n",
        "plot_confusion_matrix(y_train,y_train_pred)\n",
        "print('Test confusion_matrix')\n",
        "plot_confusion_matrix(y_test,y_test_pred)"
      ],
      "execution_count": 52,
      "outputs": [
        {
          "output_type": "stream",
          "text": [
            "Train confusion_matrix\n"
          ],
          "name": "stdout"
        },
        {
          "output_type": "display_data",
          "data": {
            "image/png": "[encoded data removed]",
            "text/plain": [
              "<Figure size 1440x288 with 6 Axes>"
            ]
          },
          "metadata": {
            "tags": [],
            "needs_background": "light"
          }
        },
        {
          "output_type": "stream",
          "text": [
            "Test confusion_matrix\n"
          ],
          "name": "stdout"
        },
        {
          "output_type": "display_data",
          "data": {
            "image/png": "[encoded data removed]",
            "text/plain": [
              "<Figure size 1440x288 with 6 Axes>"
            ]
          },
          "metadata": {
            "tags": [],
            "needs_background": "light"
          }
        }
      ]
    },
    {
      "cell_type": "code",
      "metadata": {
        "id": "61TF-VLeHgmD",
        "colab_type": "code",
        "colab": {
          "base_uri": "https://localhost:8080/",
          "height": 295
        },
        "outputId": "eb22ab1e-4eef-4570-818d-8c7af3c9c1b6"
      },
      "source": [
        "from sklearn.metrics import roc_curve, auc\n",
        "fpr,tpr,ths = roc_curve(y_test,y_test_pred)\n",
        "auc_sc = auc(fpr, tpr)\n",
        "plt.plot(fpr, tpr, color='navy',label='ROC curve (area = %0.2f)' % auc_sc)\n",
        "plt.xlabel('False Positive Rate')\n",
        "plt.ylabel('True Positive Rate')\n",
        "plt.title('Receiver operating characteristic with test data')\n",
        "plt.legend()\n",
        "plt.show()"
      ],
      "execution_count": 53,
      "outputs": [
        {
          "output_type": "display_data",
          "data": {
            "image/png": "[encoded data removed]",
            "text/plain": [
              "<Figure size 432x288 with 1 Axes>"
            ]
          },
          "metadata": {
            "tags": [],
            "needs_background": "light"
          }
        }
      ]
    },
    {
      "cell_type": "code",
      "metadata": {
        "scrolled": false,
        "id": "HEZ7uvN6HgmK",
        "colab_type": "code",
        "colab": {
          "base_uri": "https://localhost:8080/",
          "height": 730
        },
        "outputId": "b1664337-6da7-4bb7-c01f-8723fe0ecc36"
      },
      "source": [
        "features = df_final_train_t1.columns\n",
        "importances = clf_best.feature_importances_\n",
        "indices = (np.argsort(importances))[-25:]\n",
        "plt.figure(figsize=(10,12))\n",
        "plt.title('Feature Importances')\n",
        "plt.barh(range(len(indices)), importances[indices], color='r', align='center')\n",
        "plt.yticks(range(len(indices)), [features[i] for i in indices])\n",
        "plt.xlabel('Relative Importance')\n",
        "plt.show()"
      ],
      "execution_count": 55,
      "outputs": [
        {
          "output_type": "display_data",
          "data": {
            "image/png": "[encoded data removed]",
            "text/plain": [
              "<Figure size 720x864 with 1 Axes>"
            ]
          },
          "metadata": {
            "tags": [],
            "needs_background": "light"
          }
        }
      ]
    },
    {
      "cell_type": "markdown",
      "metadata": {
        "id": "xdHW32hcHgmN",
        "colab_type": "text"
      },
      "source": [
        "# Assignments:\n",
        "\n",
        "1. Add another feature called  Preferential Attachment  with followers and followees data of vertex. you can check about Preferential Attachment in below link\n",
        "http://be.amazd.com/link-prediction/ <br>\n",
        "2. Add  feature called svd_dot. you can calculate svd_dot as Dot product between sourse node svd and destination node svd features.  you can read about this in below pdf \n",
        "https://storage.googleapis.com/kaggle-forum-message-attachments/2594/supervised_link_prediction.pdf<br>\n",
        "3. Tune hyperparameters for XG boost with all these features and check the error metric."
      ]
    },
    {
      "cell_type": "markdown",
      "metadata": {
        "id": "WDP4lG4ms-QS",
        "colab_type": "text"
      },
      "source": [
        "##Task 1"
      ]
    },
    {
      "cell_type": "code",
      "metadata": {
        "id": "Az90j-M5q9YR",
        "colab_type": "code",
        "colab": {
          "base_uri": "https://localhost:8080/",
          "height": 119
        },
        "outputId": "c0ca410b-e60a-45da-8e8c-601cfc65ccc7"
      },
      "source": [
        "if os.path.isfile('/content/Facebook/data/after_eda/train_pos_after_eda.csv'):\n",
        "    train_graph=nx.read_edgelist('/content/Facebook/data/after_eda/train_pos_after_eda.csv',delimiter=',',create_using=nx.DiGraph(),nodetype=int)\n",
        "    print(nx.info(train_graph))\n",
        "else:\n",
        "    print(\"please run the FB_EDA.ipynb or download the files from drive\")"
      ],
      "execution_count": 56,
      "outputs": [
        {
          "output_type": "stream",
          "text": [
            "Name: \n",
            "Type: DiGraph\n",
            "Number of nodes: 1780722\n",
            "Number of edges: 7550015\n",
            "Average in degree:   4.2399\n",
            "Average out degree:   4.2399\n"
          ],
          "name": "stdout"
        }
      ]
    },
    {
      "cell_type": "code",
      "metadata": {
        "id": "-KRAFVhsxO2P",
        "colab_type": "code",
        "colab": {}
      },
      "source": [
        "def compute_preferential_attach(df_final):\n",
        "    #calculating the multiplication of length of followers and followees for source and destination\n",
        "    pa_followers=[]\n",
        "    pa_followees=[]\n",
        "\n",
        "    for i,row in df_final.iterrows():\n",
        "        try:\n",
        "            s1=set(train_graph.predecessors(row['source_node']))\n",
        "            s2=set(train_graph.successors(row['source_node']))\n",
        "        except:\n",
        "            s1 = set()\n",
        "            s2 = set()\n",
        "        try:\n",
        "            d1=set(train_graph.predecessors(row['destination_node']))\n",
        "            d2=set(train_graph.successors(row['destination_node']))\n",
        "        except:\n",
        "            d1 = set()\n",
        "            d2 = set()\n",
        "        pa_followers.append(len(s1)*len(d1))\n",
        "\n",
        "        pa_followees.append(len(s2)*len(d2))\n",
        "\n",
        "    \n",
        "    return pa_followers, pa_followees"
      ],
      "execution_count": 57,
      "outputs": []
    },
    {
      "cell_type": "code",
      "metadata": {
        "id": "E6AorO9IR_xf",
        "colab_type": "code",
        "colab": {}
      },
      "source": [
        "if os.path.isfile('/content/Facebook/data/fea_sample/storage_sample_stage4.h5'):\n",
        "    df_final_train['pa_followers'], df_final_train['pa_followees']= compute_preferential_attach(df_final_train)\n",
        "    \n",
        "    df_final_test['pa_followers'], df_final_test['pa_followees']= compute_preferential_attach(df_final_test)\n",
        "    \n",
        "    hdf = HDFStore('/content/Facebook/data/fea_sample/storage_sample_stage4.h5')\n",
        "    hdf.put('train_df',df_final_train, format='table', data_columns=True)\n",
        "    hdf.put('test_df',df_final_test, format='table', data_columns=True)\n",
        "    hdf.close()"
      ],
      "execution_count": 58,
      "outputs": []
    },
    {
      "cell_type": "markdown",
      "metadata": {
        "id": "WAjIRNr3tp-9",
        "colab_type": "text"
      },
      "source": [
        "##Task 2"
      ]
    },
    {
      "cell_type": "markdown",
      "metadata": {
        "id": "9UayUFb8vaV0",
        "colab_type": "text"
      },
      "source": [
        "Creating a new feature which are the dot product of these svd features i.e. \n",
        "\n",
        "svd_u_s_1*svd_u_d_1 + svd_u_s_2*svd_u_d_2 + svd_u_s_3*svd_u_d_3 ... svd_u_s_6*svd_u_d_6\n",
        "\n",
        "Creating another feature which are the dot product of destination features also\n",
        "\n",
        "(svd_v_s_1*svd_v_d_1 + svd_v_s_2*svd_v_d_2 + svd_v_s_3*svd_v_d_3 ... svd_v_s_6*svd_v_d_6)"
      ]
    },
    {
      "cell_type": "code",
      "metadata": {
        "id": "NhEi1leEQj3S",
        "colab_type": "code",
        "colab": {}
      },
      "source": [
        "df_final_train['svd_dot_1']= (df_final_train['svd_u_s_1']*(df_final_train['svd_u_d_1'])) + (df_final_train['svd_u_s_2']*(df_final_train['svd_u_d_2'])) + \\\n",
        "                             (df_final_train['svd_u_s_3']*(df_final_train['svd_u_d_3'])) + (df_final_train['svd_u_s_4']*(df_final_train['svd_u_d_4'])) + \\\n",
        "                             (df_final_train['svd_u_s_5']*(df_final_train['svd_u_d_5'])) + (df_final_train['svd_u_s_6']*(df_final_train['svd_u_d_6']))"
      ],
      "execution_count": 59,
      "outputs": []
    },
    {
      "cell_type": "code",
      "metadata": {
        "id": "nF8ObzeCRgLY",
        "colab_type": "code",
        "colab": {}
      },
      "source": [
        "df_final_train['svd_dot_2']= (df_final_train['svd_v_s_1']*(df_final_train['svd_v_d_1'])) + (df_final_train['svd_v_s_2']*(df_final_train['svd_v_d_2'])) + \\\n",
        "                             (df_final_train['svd_v_s_3']*(df_final_train['svd_v_d_3'])) + (df_final_train['svd_v_s_4']*(df_final_train['svd_v_d_4'])) + \\\n",
        "                             (df_final_train['svd_v_s_5']*(df_final_train['svd_v_d_5'])) + (df_final_train['svd_v_s_6']*(df_final_train['svd_v_d_6']))"
      ],
      "execution_count": 60,
      "outputs": []
    },
    {
      "cell_type": "code",
      "metadata": {
        "id": "zsaj2HcOyZNf",
        "colab_type": "code",
        "colab": {}
      },
      "source": [
        "df_final_test['svd_dot_1']= (df_final_test['svd_u_s_1']*(df_final_test['svd_u_d_1'])) + (df_final_test['svd_u_s_2']*(df_final_test['svd_u_d_2'])) + \\\n",
        "                             (df_final_test['svd_u_s_3']*(df_final_test['svd_u_d_3'])) + (df_final_test['svd_u_s_4']*(df_final_test['svd_u_d_4'])) + \\\n",
        "                             (df_final_test['svd_u_s_5']*(df_final_test['svd_u_d_5'])) + (df_final_test['svd_u_s_6']*(df_final_test['svd_u_d_6']))"
      ],
      "execution_count": 61,
      "outputs": []
    },
    {
      "cell_type": "code",
      "metadata": {
        "id": "A9E8WBNkynjo",
        "colab_type": "code",
        "colab": {}
      },
      "source": [
        "df_final_test['svd_dot_2']= (df_final_test['svd_v_s_1']*(df_final_test['svd_v_d_1'])) + (df_final_test['svd_v_s_2']*(df_final_test['svd_v_d_2'])) + \\\n",
        "                             (df_final_test['svd_v_s_3']*(df_final_test['svd_v_d_3'])) + (df_final_test['svd_v_s_4']*(df_final_test['svd_v_d_4'])) + \\\n",
        "                             (df_final_test['svd_v_s_5']*(df_final_test['svd_v_d_5'])) + (df_final_test['svd_v_s_6']*(df_final_test['svd_v_d_6']))"
      ],
      "execution_count": 62,
      "outputs": []
    },
    {
      "cell_type": "code",
      "metadata": {
        "id": "OvZpPuSeyyFW",
        "colab_type": "code",
        "colab": {
          "base_uri": "https://localhost:8080/",
          "height": 255
        },
        "outputId": "ad288fac-f6c5-428f-cb5f-67c71c68ae9c"
      },
      "source": [
        "df_final_train.columns"
      ],
      "execution_count": 63,
      "outputs": [
        {
          "output_type": "execute_result",
          "data": {
            "text/plain": [
              "Index(['source_node', 'destination_node', 'indicator_link',\n",
              "       'jaccard_followers', 'jaccard_followees', 'cosine_followers',\n",
              "       'cosine_followees', 'num_followers_s', 'num_followees_s',\n",
              "       'num_followees_d', 'inter_followers', 'inter_followees', 'adar_index',\n",
              "       'follows_back', 'same_comp', 'shortest_path', 'weight_in', 'weight_out',\n",
              "       'weight_f1', 'weight_f2', 'weight_f3', 'weight_f4', 'page_rank_s',\n",
              "       'page_rank_d', 'katz_s', 'katz_d', 'hubs_s', 'hubs_d', 'authorities_s',\n",
              "       'authorities_d', 'svd_u_s_1', 'svd_u_s_2', 'svd_u_s_3', 'svd_u_s_4',\n",
              "       'svd_u_s_5', 'svd_u_s_6', 'svd_u_d_1', 'svd_u_d_2', 'svd_u_d_3',\n",
              "       'svd_u_d_4', 'svd_u_d_5', 'svd_u_d_6', 'svd_v_s_1', 'svd_v_s_2',\n",
              "       'svd_v_s_3', 'svd_v_s_4', 'svd_v_s_5', 'svd_v_s_6', 'svd_v_d_1',\n",
              "       'svd_v_d_2', 'svd_v_d_3', 'svd_v_d_4', 'svd_v_d_5', 'svd_v_d_6',\n",
              "       'pa_followers', 'pa_followees', 'svd_dot_1', 'svd_dot_2'],\n",
              "      dtype='object')"
            ]
          },
          "metadata": {
            "tags": []
          },
          "execution_count": 63
        }
      ]
    },
    {
      "cell_type": "markdown",
      "metadata": {
        "id": "5u8ii5q-trkr",
        "colab_type": "text"
      },
      "source": [
        "##Task 3"
      ]
    },
    {
      "cell_type": "code",
      "metadata": {
        "id": "tJHvqTP9y9aY",
        "colab_type": "code",
        "colab": {}
      },
      "source": [
        "y_train = df_final_train.indicator_link\n",
        "y_test = df_final_test.indicator_link"
      ],
      "execution_count": 64,
      "outputs": []
    },
    {
      "cell_type": "code",
      "metadata": {
        "id": "BdycpuJ9zDFR",
        "colab_type": "code",
        "colab": {}
      },
      "source": [
        "df_final_train_t2 = df_final_train.drop(['source_node', 'destination_node','indicator_link'],axis=1)\n",
        "df_final_test_t2  = df_final_test.drop(['source_node', 'destination_node','indicator_link'],axis=1)"
      ],
      "execution_count": 65,
      "outputs": []
    },
    {
      "cell_type": "code",
      "metadata": {
        "id": "DEVN18QDz5E9",
        "colab_type": "code",
        "colab": {
          "base_uri": "https://localhost:8080/",
          "height": 68
        },
        "outputId": "1828dcc2-856f-415b-e97b-18d97186c37a"
      },
      "source": [
        "!pip install xgboost"
      ],
      "execution_count": 66,
      "outputs": [
        {
          "output_type": "stream",
          "text": [
            "Requirement already satisfied: xgboost in /usr/local/lib/python3.6/dist-packages (0.90)\n",
            "Requirement already satisfied: numpy in /usr/local/lib/python3.6/dist-packages (from xgboost) (1.18.5)\n",
            "Requirement already satisfied: scipy in /usr/local/lib/python3.6/dist-packages (from xgboost) (1.4.1)\n"
          ],
          "name": "stdout"
        }
      ]
    },
    {
      "cell_type": "code",
      "metadata": {
        "id": "dhyve0GWz6Q_",
        "colab_type": "code",
        "colab": {}
      },
      "source": [
        "import xgboost as xgb"
      ],
      "execution_count": 67,
      "outputs": []
    },
    {
      "cell_type": "code",
      "metadata": {
        "id": "0DsYndBqoXxp",
        "colab_type": "code",
        "colab": {
          "base_uri": "https://localhost:8080/",
          "height": 397
        },
        "outputId": "fde671be-e5d6-4b35-a225-6b7b384bda7f"
      },
      "source": [
        "#applying decision tree on the basic of grid search\n",
        "# https://scikit-learn.org/stable/modules/generated/sklearn.model_selection.GridSearchCV.html\n",
        "from sklearn.model_selection import GridSearchCV\n",
        "\n",
        "train_scores_t2 =[]\n",
        "test_scores_t2  =[]\n",
        "parameters_ne = [10,50,100,250,450]\n",
        "for i in parameters_ne:\n",
        "\n",
        "    clf_t2 = xgb.XGBClassifier(n_estimators=i, n_jobs=-1)\n",
        "    clf_t2.fit(df_final_train_t2,y_train)\n",
        "    train_sc_t2 = f1_score(y_train,clf_t2.predict(df_final_train_t2))\n",
        "    test_sc_t2 = f1_score(y_test,clf_t2.predict(df_final_test_t2))\n",
        "    test_scores_t2.append(test_sc_t2)\n",
        "    train_scores_t2.append(train_sc_t2)\n",
        "    print('Estimators = ',i,'Train Score',train_sc_t2,'test Score',test_sc_t2)\n",
        "plt.plot(parameters_ne,train_scores_t2,label='Train Score')\n",
        "plt.plot(parameters_ne,test_scores_t2,label='Test Score')\n",
        "plt.xlabel('Estimators')\n",
        "plt.ylabel('Score')\n",
        "plt.title('Estimators vs score at depth of 3')\n"
      ],
      "execution_count": 69,
      "outputs": [
        {
          "output_type": "stream",
          "text": [
            "Estimators =  10 Train Score 0.9210492696844526 test Score 0.9162413689582708\n",
            "Estimators =  50 Train Score 0.9675354922332259 test Score 0.9231354642313546\n",
            "Estimators =  100 Train Score 0.9736268857840504 test Score 0.9281594571670908\n",
            "Estimators =  250 Train Score 0.9779501631263698 test Score 0.9152513258755074\n",
            "Estimators =  450 Train Score 0.9824526059189717 test Score 0.9005723238961547\n"
          ],
          "name": "stdout"
        },
        {
          "output_type": "execute_result",
          "data": {
            "text/plain": [
              "Text(0.5, 1.0, 'Estimators vs score at depth of 3')"
            ]
          },
          "metadata": {
            "tags": []
          },
          "execution_count": 69
        },
        {
          "output_type": "display_data",
          "data": {
            "image/png": "[encoded data removed]",
            "text/plain": [
              "<Figure size 432x288 with 1 Axes>"
            ]
          },
          "metadata": {
            "tags": [],
            "needs_background": "light"
          }
        }
      ]
    },
    {
      "cell_type": "code",
      "metadata": {
        "id": "Fj7Lxn-J7OMT",
        "colab_type": "code",
        "colab": {
          "base_uri": "https://localhost:8080/",
          "height": 170
        },
        "outputId": "e677ba1e-7e66-466a-f11e-933d1b40cf67"
      },
      "source": [
        "#applying decision tree on the basic of grid search\n",
        "# https://scikit-learn.org/stable/modules/generated/sklearn.model_selection.GridSearchCV.html\n",
        "from sklearn.model_selection import GridSearchCV\n",
        "\n",
        "train_scores_t2 =[]\n",
        "test_scores_t2  =[]\n",
        "parameters_md = [3,9,11,15,20,35,50,70,130]\n",
        "for i in parameters_md:\n",
        "\n",
        "    clf_t2 = xgb.XGBClassifier(n_estimators=100, max_depth = i , n_jobs=-1)\n",
        "    clf_t2.fit(df_final_train_t2,y_train)\n",
        "    train_sc_t2 = f1_score(y_train,clf_t2.predict(df_final_train_t2))\n",
        "    test_sc_t2 = f1_score(y_test,clf_t2.predict(df_final_test_t2))\n",
        "    test_scores_t2.append(test_sc_t2)\n",
        "    train_scores_t2.append(train_sc_t2)\n",
        "    print('Depth = ',i,'Train Score',train_sc_t2,'test Score',test_sc_t2)\n",
        "\n"
      ],
      "execution_count": 70,
      "outputs": [
        {
          "output_type": "stream",
          "text": [
            "Depth =  3 Train Score 0.9736268857840504 test Score 0.9281594571670908\n",
            "Depth =  9 Train Score 0.9872526234241848 test Score 0.9299300995551789\n",
            "Depth =  11 Train Score 0.9928021442984349 test Score 0.9268075167215203\n",
            "Depth =  15 Train Score 0.999730196956222 test Score 0.9270227841656413\n",
            "Depth =  20 Train Score 1.0 test Score 0.9294266976940977\n",
            "Depth =  35 Train Score 1.0 test Score 0.9309484544801049\n",
            "Depth =  50 Train Score 1.0 test Score 0.9310024098423033\n",
            "Depth =  70 Train Score 1.0 test Score 0.9310024098423033\n",
            "Depth =  130 Train Score 1.0 test Score 0.9310024098423033\n"
          ],
          "name": "stdout"
        }
      ]
    },
    {
      "cell_type": "code",
      "metadata": {
        "id": "xBRiOekl5R1J",
        "colab_type": "code",
        "colab": {
          "base_uri": "https://localhost:8080/",
          "height": 312
        },
        "outputId": "8dc10632-35b8-4ad8-ce13-0d5a0dd12295"
      },
      "source": [
        "plt.plot(parameters_md,train_scores_t2,label='Train Score')\n",
        "plt.plot(parameters_md,test_scores_t2,label='Test Score')\n",
        "plt.xlabel('Depth')\n",
        "plt.ylabel('Score')\n",
        "plt.title('Depth vs score at estimators of 100')\n"
      ],
      "execution_count": 115,
      "outputs": [
        {
          "output_type": "execute_result",
          "data": {
            "text/plain": [
              "Text(0.5, 1.0, 'Depth vs score at estimators of 100')"
            ]
          },
          "metadata": {
            "tags": []
          },
          "execution_count": 115
        },
        {
          "output_type": "display_data",
          "data": {
            "image/png": "[encoded data removed]",
            "text/plain": [
              "<Figure size 432x288 with 1 Axes>"
            ]
          },
          "metadata": {
            "tags": [],
            "needs_background": "light"
          }
        }
      ]
    },
    {
      "cell_type": "code",
      "metadata": {
        "id": "17bJ1FJt73CA",
        "colab_type": "code",
        "colab": {
          "base_uri": "https://localhost:8080/",
          "height": 51
        },
        "outputId": "5d5998d5-49d6-49c2-80f6-715832d3d339"
      },
      "source": [
        "from sklearn.metrics import f1_score\n",
        "from sklearn.ensemble import RandomForestClassifier\n",
        "from sklearn.metrics import f1_score\n",
        "from sklearn.model_selection import RandomizedSearchCV\n",
        "from scipy.stats import randint as sp_randint\n",
        "from scipy.stats import uniform\n",
        "\n",
        "param_dist = {\"n_estimators\":sp_randint(95,135),\n",
        "              \"max_depth\": sp_randint(40,55)}\n",
        "\n",
        "clf_t2 = xgb.XGBClassifier(random_state=25,n_jobs=-1)\n",
        "\n",
        "xg_random_t2 = RandomizedSearchCV(clf_t2, param_distributions=param_dist,\n",
        "                                   n_iter=5,cv=10,scoring='f1',random_state=25,return_train_score =True)\n",
        "\n",
        "xg_random_t2.fit(df_final_train_t2,y_train)\n",
        "print('mean test scores',xg_random_t2.cv_results_['mean_test_score'])\n",
        "print('mean train scores',xg_random_t2.cv_results_['mean_train_score'])"
      ],
      "execution_count": 71,
      "outputs": [
        {
          "output_type": "stream",
          "text": [
            "mean test scores [0.97928118 0.97929972 0.9788908  0.9787006  0.97939296]\n",
            "mean train scores [1. 1. 1. 1. 1.]\n"
          ],
          "name": "stdout"
        }
      ]
    },
    {
      "cell_type": "code",
      "metadata": {
        "colab_type": "code",
        "id": "c_oPUVwV9BIO",
        "colab": {
          "base_uri": "https://localhost:8080/",
          "height": 136
        },
        "outputId": "2707e5ab-98e2-44d8-fbb2-3680058b726b"
      },
      "source": [
        "print(xg_random_t2.best_estimator_)"
      ],
      "execution_count": 72,
      "outputs": [
        {
          "output_type": "stream",
          "text": [
            "XGBClassifier(base_score=0.5, booster='gbtree', colsample_bylevel=1,\n",
            "              colsample_bynode=1, colsample_bytree=1, gamma=0,\n",
            "              learning_rate=0.1, max_delta_step=0, max_depth=49,\n",
            "              min_child_weight=1, missing=None, n_estimators=126, n_jobs=-1,\n",
            "              nthread=None, objective='binary:logistic', random_state=25,\n",
            "              reg_alpha=0, reg_lambda=1, scale_pos_weight=1, seed=None,\n",
            "              silent=None, subsample=1, verbosity=1)\n"
          ],
          "name": "stdout"
        }
      ]
    },
    {
      "cell_type": "code",
      "metadata": {
        "colab_type": "code",
        "id": "BdirRec49BIn",
        "colab": {}
      },
      "source": [
        "clf_t2_best = xg_random_t2.best_estimator_"
      ],
      "execution_count": 73,
      "outputs": []
    },
    {
      "cell_type": "code",
      "metadata": {
        "colab_type": "code",
        "id": "xEXEqp5u9BIz",
        "colab": {}
      },
      "source": [
        "clf_t2_best.fit(df_final_train_t2,y_train)\n",
        "y_train_pred = clf_t2_best.predict(df_final_train_t2)\n",
        "y_test_pred = clf_t2_best.predict(df_final_test_t2)"
      ],
      "execution_count": 75,
      "outputs": []
    },
    {
      "cell_type": "code",
      "metadata": {
        "colab_type": "code",
        "id": "gyCYaTcN9BI2",
        "colab": {
          "base_uri": "https://localhost:8080/",
          "height": 51
        },
        "outputId": "93cf98e4-dd37-4743-9c43-b68e9bd24cd3"
      },
      "source": [
        "from sklearn.metrics import f1_score\n",
        "print('Train f1 score',f1_score(y_train,y_train_pred))\n",
        "print('Test f1 score',f1_score(y_test,y_test_pred))"
      ],
      "execution_count": 76,
      "outputs": [
        {
          "output_type": "stream",
          "text": [
            "Train f1 score 1.0\n",
            "Test f1 score 0.9290841715193224\n"
          ],
          "name": "stdout"
        }
      ]
    },
    {
      "cell_type": "code",
      "metadata": {
        "colab_type": "code",
        "id": "1ntAqS9L9BI6",
        "colab": {}
      },
      "source": [
        "from sklearn.metrics import confusion_matrix\n",
        "def plot_confusion_matrix(test_y, predict_y):\n",
        "    C = confusion_matrix(test_y, predict_y)\n",
        "    \n",
        "    A =(((C.T)/(C.sum(axis=1))).T)\n",
        "    \n",
        "    B =(C/C.sum(axis=0))\n",
        "    plt.figure(figsize=(20,4))\n",
        "    \n",
        "    labels = [0,1]\n",
        "    # representing A in heatmap format\n",
        "    cmap=sns.light_palette(\"blue\")\n",
        "    plt.subplot(1, 3, 1)\n",
        "    sns.heatmap(C, annot=True, cmap=cmap, fmt=\".3f\", xticklabels=labels, yticklabels=labels)\n",
        "    plt.xlabel('Predicted Class')\n",
        "    plt.ylabel('Original Class')\n",
        "    plt.title(\"Confusion matrix\")\n",
        "    \n",
        "    plt.subplot(1, 3, 2)\n",
        "    sns.heatmap(B, annot=True, cmap=cmap, fmt=\".3f\", xticklabels=labels, yticklabels=labels)\n",
        "    plt.xlabel('Predicted Class')\n",
        "    plt.ylabel('Original Class')\n",
        "    plt.title(\"Precision matrix\")\n",
        "    \n",
        "    plt.subplot(1, 3, 3)\n",
        "    # representing B in heatmap format\n",
        "    sns.heatmap(A, annot=True, cmap=cmap, fmt=\".3f\", xticklabels=labels, yticklabels=labels)\n",
        "    plt.xlabel('Predicted Class')\n",
        "    plt.ylabel('Original Class')\n",
        "    plt.title(\"Recall matrix\")\n",
        "    \n",
        "    plt.show()"
      ],
      "execution_count": 77,
      "outputs": []
    },
    {
      "cell_type": "code",
      "metadata": {
        "colab_type": "code",
        "id": "vw903HBf9BI9",
        "colab": {
          "base_uri": "https://localhost:8080/",
          "height": 607
        },
        "outputId": "c270abd0-b3e0-4384-db1a-8b38dbee9164"
      },
      "source": [
        "print('Train confusion_matrix')\n",
        "plot_confusion_matrix(y_train,y_train_pred)\n",
        "print('Test confusion_matrix')\n",
        "plot_confusion_matrix(y_test,y_test_pred)"
      ],
      "execution_count": 78,
      "outputs": [
        {
          "output_type": "stream",
          "text": [
            "Train confusion_matrix\n"
          ],
          "name": "stdout"
        },
        {
          "output_type": "display_data",
          "data": {
            "image/png": "[encoded data removed]",
            "text/plain": [
              "<Figure size 1440x288 with 6 Axes>"
            ]
          },
          "metadata": {
            "tags": [],
            "needs_background": "light"
          }
        },
        {
          "output_type": "stream",
          "text": [
            "Test confusion_matrix\n"
          ],
          "name": "stdout"
        },
        {
          "output_type": "display_data",
          "data": {
            "image/png": "[encoded data removed]",
            "text/plain": [
              "<Figure size 1440x288 with 6 Axes>"
            ]
          },
          "metadata": {
            "tags": [],
            "needs_background": "light"
          }
        }
      ]
    },
    {
      "cell_type": "code",
      "metadata": {
        "colab_type": "code",
        "id": "AgPe3Bbv9BJB",
        "colab": {
          "base_uri": "https://localhost:8080/",
          "height": 295
        },
        "outputId": "a5b1ea53-c4ac-4347-a048-c429e1eb006e"
      },
      "source": [
        "from sklearn.metrics import roc_curve, auc\n",
        "fpr,tpr,ths = roc_curve(y_test,y_test_pred)\n",
        "auc_sc = auc(fpr, tpr)\n",
        "plt.plot(fpr, tpr, color='navy',label='ROC curve (area = %0.2f)' % auc_sc)\n",
        "plt.xlabel('False Positive Rate')\n",
        "plt.ylabel('True Positive Rate')\n",
        "plt.title('Receiver operating characteristic with test data')\n",
        "plt.legend()\n",
        "plt.show()"
      ],
      "execution_count": 79,
      "outputs": [
        {
          "output_type": "display_data",
          "data": {
            "image/png": "[encoded data removed]",
            "text/plain": [
              "<Figure size 432x288 with 1 Axes>"
            ]
          },
          "metadata": {
            "tags": [],
            "needs_background": "light"
          }
        }
      ]
    },
    {
      "cell_type": "code",
      "metadata": {
        "scrolled": false,
        "colab_type": "code",
        "id": "y0Pldsur9BJE",
        "colab": {
          "base_uri": "https://localhost:8080/",
          "height": 730
        },
        "outputId": "e0ef0dfe-ba83-4713-ad4e-f3e470586883"
      },
      "source": [
        "feature_important = clf_t2_best.get_booster().get_score(importance_type='weight')\n",
        "keys = list(feature_important.keys())\n",
        "values = list(feature_important.values())\n",
        "indices = list((np.argsort(values)))[-25:]\n",
        "\n",
        "plt.figure(figsize=(10,12))\n",
        "plt.title('Feature Importances')\n",
        "plt.barh(range(len(indices)), [values[int(i)] for i in indices], color='r', align='center')\n",
        "plt.yticks(range(len(indices)), [keys[int(i)] for i in indices])\n",
        "plt.xlabel('Relative Importance')\n",
        "plt.show()"
      ],
      "execution_count": 109,
      "outputs": [
        {
          "output_type": "display_data",
          "data": {
            "image/png": "[encoded data removed]",
            "text/plain": [
              "<Figure size 720x864 with 1 Axes>"
            ]
          },
          "metadata": {
            "tags": [],
            "needs_background": "light"
          }
        }
      ]
    }
  ]
}